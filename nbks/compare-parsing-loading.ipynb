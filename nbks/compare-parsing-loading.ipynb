{
 "cells": [
  {
   "cell_type": "markdown",
   "id": "76c011ae",
   "metadata": {},
   "source": [
    "# Notation\n",
    "\n",
    "- `bp` - biopython\n",
    "- `c3` - cogent3\n",
    "- `c3h5s` - sparse storage from cogent3-h5seqs plugin\n",
    "- `sb` - scikit-bio"
   ]
  },
  {
   "cell_type": "markdown",
   "id": "bb379ccb",
   "metadata": {},
   "source": [
    "# Comparing performance of raw parsers of basic data formats\n",
    "\n",
    "## Parse Fasta\n",
    "\n",
    "### Human chromosome 1"
   ]
  },
  {
   "cell_type": "code",
   "execution_count": null,
   "id": "8e71105e",
   "metadata": {},
   "outputs": [],
   "source": [
    "from c3bench.report import display_results_for\n",
    "\n",
    "display_results_for(\"parse_fasta\", \"hsap_fa\")"
   ]
  },
  {
   "cell_type": "markdown",
   "id": "a0df2941",
   "metadata": {},
   "source": [
    "### SARS multiple sequence alignment"
   ]
  },
  {
   "cell_type": "code",
   "execution_count": null,
   "id": "204c7934",
   "metadata": {},
   "outputs": [],
   "source": [
    "display_results_for(\"parse_fasta\", \"sars_msa\")"
   ]
  },
  {
   "cell_type": "markdown",
   "id": "b8032c26",
   "metadata": {},
   "source": [
    "## Parse GenBank\n",
    "\n",
    "### Human chromosome 1"
   ]
  },
  {
   "cell_type": "code",
   "execution_count": null,
   "id": "b8373dbc",
   "metadata": {},
   "outputs": [],
   "source": [
    "display_results_for(\"parse_gbk\", \"hsap_gbk\")"
   ]
  },
  {
   "cell_type": "markdown",
   "id": "f5c6a3bf",
   "metadata": {},
   "source": [
    "### A microbial genome"
   ]
  },
  {
   "cell_type": "code",
   "execution_count": null,
   "id": "e19317e7",
   "metadata": {},
   "outputs": [],
   "source": [
    "display_results_for(\"parse_gbk\", \"micro_gbk\")"
   ]
  },
  {
   "cell_type": "markdown",
   "id": "762ea51b",
   "metadata": {},
   "source": [
    "## Parse GFF3\n",
    "\n",
    "### Human genome"
   ]
  },
  {
   "cell_type": "code",
   "execution_count": null,
   "id": "65a52271",
   "metadata": {},
   "outputs": [],
   "source": [
    "display_results_for(\"parse_gff\", \"hsap_gff3\")"
   ]
  },
  {
   "cell_type": "markdown",
   "id": "3ba23fe5",
   "metadata": {},
   "source": [
    "## Loading an alignment\n",
    "\n",
    "### Loading SARS-COV-2"
   ]
  },
  {
   "cell_type": "code",
   "execution_count": null,
   "id": "02cfb051",
   "metadata": {},
   "outputs": [],
   "source": [
    "display_results_for(\"load_aln\")"
   ]
  }
 ],
 "metadata": {
  "kernelspec": {
   "display_name": "benchmark",
   "language": "python",
   "name": "python3"
  },
  "language_info": {
   "codemirror_mode": {
    "name": "ipython",
    "version": 3
   },
   "file_extension": ".py",
   "mimetype": "text/x-python",
   "name": "python",
   "nbconvert_exporter": "python",
   "pygments_lexer": "ipython3",
   "version": "3.13.5"
  }
 },
 "nbformat": 4,
 "nbformat_minor": 5
}
